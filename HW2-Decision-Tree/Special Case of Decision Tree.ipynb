{
 "cells": [
  {
   "cell_type": "code",
   "execution_count": 3,
   "id": "3c36d26b",
   "metadata": {},
   "outputs": [
    {
     "data": {
      "image/png": "[encoded data removed]",
      "text/plain": [
       "<Figure size 360x360 with 1 Axes>"
      ]
     },
     "metadata": {
      "needs_background": "light"
     },
     "output_type": "display_data"
    }
   ],
   "source": [
    "# in this case, we show a special case that\n",
    "# both classes are present but the algorithm refuses to split; \n",
    "# instead it makes the root a leaf and stop;\n",
    "# if we were to manually force a split,\n",
    "# the algorithm will happily continue splitting the data set further and produce a deeper tree with zero training error.\n",
    "\n",
    "import pandas as pd\n",
    "import matplotlib.pyplot as plt\n",
    "\n",
    "def readData(filename):\n",
    "    dataSet = []\n",
    "    with open(filename,encoding='utf-8') as f:\n",
    "        for line in f:\n",
    "            x1,x2,y=line.strip().split(\" \")\n",
    "            dataSet.append([x1,x2,y])\n",
    "    f.close()\n",
    "\n",
    "    return dataSet\n",
    "\n",
    "data = readData('data/special.txt')\n",
    "\n",
    "xn1 = [example[0] for example in data]\n",
    "xn2 = [example[1] for example in data]\n",
    "labels = [example[2] for example in data]\n",
    "\n",
    "for i in range(len(labels)):\n",
    "    if(labels[i] == '0'):\n",
    "        labels[i] = 'red'\n",
    "    elif(labels[i] == '1'):\n",
    "        labels[i] = 'blue'\n",
    "\n",
    "plt.figure(figsize = (5,5))\n",
    "plt.scatter(xn1,xn2,alpha=0.25, c=labels)\n",
    "plt.xlabel('feature 1')\n",
    "plt.ylabel('feature 2')\n",
    "plt.title('sample data plot')\n",
    "plt.show()"
   ]
  },
  {
   "cell_type": "code",
   "execution_count": null,
   "id": "d79ec54b",
   "metadata": {},
   "outputs": [],
   "source": []
  }
 ],
 "metadata": {
  "kernelspec": {
   "display_name": "Python 3 (ipykernel)",
   "language": "python",
   "name": "python3"
  },
  "language_info": {
   "codemirror_mode": {
    "name": "ipython",
    "version": 3
   },
   "file_extension": ".py",
   "mimetype": "text/x-python",
   "name": "python",
   "nbconvert_exporter": "python",
   "pygments_lexer": "ipython3",
   "version": "3.9.12"
  }
 },
 "nbformat": 4,
 "nbformat_minor": 5
}
