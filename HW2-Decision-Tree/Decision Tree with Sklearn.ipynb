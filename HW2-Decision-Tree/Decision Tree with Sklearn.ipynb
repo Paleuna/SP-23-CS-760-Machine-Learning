{
 "cells": [
  {
   "cell_type": "code",
   "execution_count": 2,
   "id": "efdd6852",
   "metadata": {},
   "outputs": [],
   "source": [
    "import random\n",
    "\n",
    "def readData(filename):\n",
    "    dataSet = []\n",
    "    with open(filename,encoding='utf-8') as f:\n",
    "        for line in f:\n",
    "            x1,x2,y=line.strip().split(\" \")\n",
    "            dataSet.append([x1,x2,y])\n",
    "    f.close()\n",
    "\n",
    "    return dataSet\n",
    "\n",
    "# Give the read data\n",
    "dataSet = readData('data/Dbig.txt')\n",
    "\n",
    "# shuffle the data\n",
    "random.shuffle(dataSet)\n",
    "\n",
    "train = dataSet[0:8192]\n",
    "test = dataSet[8192:]\n",
    "\n",
    "# size 32\n",
    "random.shuffle(train)\n",
    "train_32 = train[0:32]\n",
    "\n",
    "# size 128\n",
    "random.shuffle(train)\n",
    "train_128 = train[0:128]\n",
    "\n",
    "# size 512\n",
    "random.shuffle(train)\n",
    "train_512 = train[0:512]\n",
    "\n",
    "# size 2048\n",
    "random.shuffle(train)\n",
    "train_2048 = train[0:2048]\n",
    "\n",
    "# size 8192\n",
    "train_8192 = train"
   ]
  },
  {
   "cell_type": "code",
   "execution_count": 4,
   "id": "025f56b3",
   "metadata": {},
   "outputs": [
    {
     "name": "stdout",
     "output_type": "stream",
     "text": [
      "N:32 Number of node: 9 Error: 0.09900442477876106\n",
      "N:128 Number of node: 19 Error: 0.07079646017699115\n",
      "N:512 Number of node: 55 Error: 0.05033185840707965\n",
      "N:2048 Number of node: 113 Error: 0.03152654867256637\n",
      "N:8192 Number of node: 235 Error: 0.017699115044247787\n"
     ]
    },
    {
     "data": {
      "image/png": "[encoded data removed]",
      "text/plain": [
       "<Figure size 720x360 with 1 Axes>"
      ]
     },
     "metadata": {
      "needs_background": "light"
     },
     "output_type": "display_data"
    }
   ],
   "source": [
    "from sklearn import tree\n",
    "import matplotlib.pyplot as plt\n",
    "\n",
    "tree = tree.DecisionTreeClassifier()\n",
    "\n",
    "def evaluate_tree_with_sklearn(tree,trainSet,testSet):\n",
    "    X = [[data[0], data[1]] for data in trainSet]\n",
    "    Y = [data[2] for data in trainSet]\n",
    "    tree = tree.fit(X,Y)\n",
    "    num = tree.tree_.node_count\n",
    "    X_ = [[data[0], data[1]] for data in testSet]\n",
    "    Y_ = [data[2] for data in testSet]\n",
    "    Y_hat = tree.predict(X_)\n",
    "    \n",
    "    count = 0\n",
    "    for i in range(len(Y_)):\n",
    "        if(int(Y_[i])!=int(Y_hat[i])):\n",
    "            count += 1\n",
    "    error = count/len(Y_)\n",
    "    \n",
    "    return num, error\n",
    "\n",
    "num_32, err_32 = evaluate_tree_with_sklearn(tree,train_32,test)\n",
    "num_128, err_128 = evaluate_tree_with_sklearn(tree,train_128,test)\n",
    "num_512, err_512 = evaluate_tree_with_sklearn(tree,train_512,test)\n",
    "num_2048, err_2048 = evaluate_tree_with_sklearn(tree,train_2048,test)\n",
    "num_8192, err_8192 = evaluate_tree_with_sklearn(tree,train_8192,test)\n",
    "\n",
    "print(\"N:32\",\"Number of node:\",num_32,\"Error:\",err_32)\n",
    "print(\"N:128\",\"Number of node:\",num_128,\"Error:\",err_128)\n",
    "print(\"N:512\",\"Number of node:\",num_512,\"Error:\",err_512)\n",
    "print(\"N:2048\",\"Number of node:\",num_2048,\"Error:\",err_2048)\n",
    "print(\"N:8192\",\"Number of node:\",num_8192,\"Error:\",err_8192) \n",
    "\n",
    "n = [32,128,512,2048,8192]\n",
    "err = [err_32,err_128,err_512,err_2048,err_8192]\n",
    "\n",
    "plt.figure(figsize = (10,5))\n",
    "plt.title('learning curve')\n",
    "plt.plot(n,err)\n",
    "plt.xlabel('n')\n",
    "plt.ylabel('error')\n",
    "\n",
    "plt.show()"
   ]
  },
  {
   "cell_type": "code",
   "execution_count": null,
   "id": "7a51f623",
   "metadata": {},
   "outputs": [],
   "source": []
  }
 ],
 "metadata": {
  "kernelspec": {
   "display_name": "Python 3 (ipykernel)",
   "language": "python",
   "name": "python3"
  },
  "language_info": {
   "codemirror_mode": {
    "name": "ipython",
    "version": 3
   },
   "file_extension": ".py",
   "mimetype": "text/x-python",
   "name": "python",
   "nbconvert_exporter": "python",
   "pygments_lexer": "ipython3",
   "version": "3.9.12"
  }
 },
 "nbformat": 4,
 "nbformat_minor": 5
}
